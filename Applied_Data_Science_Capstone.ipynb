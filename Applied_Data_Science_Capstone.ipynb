{
 "cells": [
  {
   "cell_type": "markdown",
   "metadata": {},
   "source": [
    "### Importing Important Libraries"
   ]
  },
  {
   "cell_type": "code",
   "execution_count": 1,
   "metadata": {},
   "outputs": [],
   "source": [
    "#importing numpy for array and mathematical opeartion\n",
    "import numpy as np\n",
    "\n",
    "#importing pandas for data manipulation\n",
    "import pandas as pd\n",
    "\n",
    "# importing matplotlib and seaborn for drawing graphs\n",
    "import matplotlib.pyplot as plt\n",
    "import seaborn as sns\n",
    "\n",
    "%matplotlib inline"
   ]
  },
  {
   "cell_type": "markdown",
   "metadata": {},
   "source": [
    "### Imprting Dataset"
   ]
  },
  {
   "cell_type": "code",
   "execution_count": 2,
   "metadata": {},
   "outputs": [
    {
     "name": "stderr",
     "output_type": "stream",
     "text": [
      "c:\\mysoftwares\\python3\\lib\\site-packages\\IPython\\core\\interactiveshell.py:3071: DtypeWarning: Columns (33) have mixed types.Specify dtype option on import or set low_memory=False.\n",
      "  has_raised = await self.run_ast_nodes(code_ast.body, cell_name,\n"
     ]
    }
   ],
   "source": [
    "data = pd.read_csv('Data_Collisions.csv')"
   ]
  },
  {
   "cell_type": "markdown",
   "metadata": {},
   "source": [
    "##### Let us explore the first 5 rows of our dataset"
   ]
  },
  {
   "cell_type": "code",
   "execution_count": 3,
   "metadata": {},
   "outputs": [
    {
     "data": {
      "text/html": [
       "<div>\n",
       "<style scoped>\n",
       "    .dataframe tbody tr th:only-of-type {\n",
       "        vertical-align: middle;\n",
       "    }\n",
       "\n",
       "    .dataframe tbody tr th {\n",
       "        vertical-align: top;\n",
       "    }\n",
       "\n",
       "    .dataframe thead th {\n",
       "        text-align: right;\n",
       "    }\n",
       "</style>\n",
       "<table border=\"1\" class=\"dataframe\">\n",
       "  <thead>\n",
       "    <tr style=\"text-align: right;\">\n",
       "      <th></th>\n",
       "      <th>SEVERITYCODE</th>\n",
       "      <th>X</th>\n",
       "      <th>Y</th>\n",
       "      <th>OBJECTID</th>\n",
       "      <th>INCKEY</th>\n",
       "      <th>COLDETKEY</th>\n",
       "      <th>REPORTNO</th>\n",
       "      <th>STATUS</th>\n",
       "      <th>ADDRTYPE</th>\n",
       "      <th>INTKEY</th>\n",
       "      <th>...</th>\n",
       "      <th>ROADCOND</th>\n",
       "      <th>LIGHTCOND</th>\n",
       "      <th>PEDROWNOTGRNT</th>\n",
       "      <th>SDOTCOLNUM</th>\n",
       "      <th>SPEEDING</th>\n",
       "      <th>ST_COLCODE</th>\n",
       "      <th>ST_COLDESC</th>\n",
       "      <th>SEGLANEKEY</th>\n",
       "      <th>CROSSWALKKEY</th>\n",
       "      <th>HITPARKEDCAR</th>\n",
       "    </tr>\n",
       "  </thead>\n",
       "  <tbody>\n",
       "    <tr>\n",
       "      <th>0</th>\n",
       "      <td>2</td>\n",
       "      <td>-122.323148</td>\n",
       "      <td>47.703140</td>\n",
       "      <td>1</td>\n",
       "      <td>1307</td>\n",
       "      <td>1307</td>\n",
       "      <td>3502005</td>\n",
       "      <td>Matched</td>\n",
       "      <td>Intersection</td>\n",
       "      <td>37475.0</td>\n",
       "      <td>...</td>\n",
       "      <td>Wet</td>\n",
       "      <td>Daylight</td>\n",
       "      <td>NaN</td>\n",
       "      <td>NaN</td>\n",
       "      <td>NaN</td>\n",
       "      <td>10</td>\n",
       "      <td>Entering at angle</td>\n",
       "      <td>0</td>\n",
       "      <td>0</td>\n",
       "      <td>N</td>\n",
       "    </tr>\n",
       "    <tr>\n",
       "      <th>1</th>\n",
       "      <td>1</td>\n",
       "      <td>-122.347294</td>\n",
       "      <td>47.647172</td>\n",
       "      <td>2</td>\n",
       "      <td>52200</td>\n",
       "      <td>52200</td>\n",
       "      <td>2607959</td>\n",
       "      <td>Matched</td>\n",
       "      <td>Block</td>\n",
       "      <td>NaN</td>\n",
       "      <td>...</td>\n",
       "      <td>Wet</td>\n",
       "      <td>Dark - Street Lights On</td>\n",
       "      <td>NaN</td>\n",
       "      <td>6354039.0</td>\n",
       "      <td>NaN</td>\n",
       "      <td>11</td>\n",
       "      <td>From same direction - both going straight - bo...</td>\n",
       "      <td>0</td>\n",
       "      <td>0</td>\n",
       "      <td>N</td>\n",
       "    </tr>\n",
       "    <tr>\n",
       "      <th>2</th>\n",
       "      <td>1</td>\n",
       "      <td>-122.334540</td>\n",
       "      <td>47.607871</td>\n",
       "      <td>3</td>\n",
       "      <td>26700</td>\n",
       "      <td>26700</td>\n",
       "      <td>1482393</td>\n",
       "      <td>Matched</td>\n",
       "      <td>Block</td>\n",
       "      <td>NaN</td>\n",
       "      <td>...</td>\n",
       "      <td>Dry</td>\n",
       "      <td>Daylight</td>\n",
       "      <td>NaN</td>\n",
       "      <td>4323031.0</td>\n",
       "      <td>NaN</td>\n",
       "      <td>32</td>\n",
       "      <td>One parked--one moving</td>\n",
       "      <td>0</td>\n",
       "      <td>0</td>\n",
       "      <td>N</td>\n",
       "    </tr>\n",
       "    <tr>\n",
       "      <th>3</th>\n",
       "      <td>1</td>\n",
       "      <td>-122.334803</td>\n",
       "      <td>47.604803</td>\n",
       "      <td>4</td>\n",
       "      <td>1144</td>\n",
       "      <td>1144</td>\n",
       "      <td>3503937</td>\n",
       "      <td>Matched</td>\n",
       "      <td>Block</td>\n",
       "      <td>NaN</td>\n",
       "      <td>...</td>\n",
       "      <td>Dry</td>\n",
       "      <td>Daylight</td>\n",
       "      <td>NaN</td>\n",
       "      <td>NaN</td>\n",
       "      <td>NaN</td>\n",
       "      <td>23</td>\n",
       "      <td>From same direction - all others</td>\n",
       "      <td>0</td>\n",
       "      <td>0</td>\n",
       "      <td>N</td>\n",
       "    </tr>\n",
       "    <tr>\n",
       "      <th>4</th>\n",
       "      <td>2</td>\n",
       "      <td>-122.306426</td>\n",
       "      <td>47.545739</td>\n",
       "      <td>5</td>\n",
       "      <td>17700</td>\n",
       "      <td>17700</td>\n",
       "      <td>1807429</td>\n",
       "      <td>Matched</td>\n",
       "      <td>Intersection</td>\n",
       "      <td>34387.0</td>\n",
       "      <td>...</td>\n",
       "      <td>Wet</td>\n",
       "      <td>Daylight</td>\n",
       "      <td>NaN</td>\n",
       "      <td>4028032.0</td>\n",
       "      <td>NaN</td>\n",
       "      <td>10</td>\n",
       "      <td>Entering at angle</td>\n",
       "      <td>0</td>\n",
       "      <td>0</td>\n",
       "      <td>N</td>\n",
       "    </tr>\n",
       "  </tbody>\n",
       "</table>\n",
       "<p>5 rows × 38 columns</p>\n",
       "</div>"
      ],
      "text/plain": [
       "   SEVERITYCODE           X          Y  OBJECTID  INCKEY  COLDETKEY REPORTNO  \\\n",
       "0             2 -122.323148  47.703140         1    1307       1307  3502005   \n",
       "1             1 -122.347294  47.647172         2   52200      52200  2607959   \n",
       "2             1 -122.334540  47.607871         3   26700      26700  1482393   \n",
       "3             1 -122.334803  47.604803         4    1144       1144  3503937   \n",
       "4             2 -122.306426  47.545739         5   17700      17700  1807429   \n",
       "\n",
       "    STATUS      ADDRTYPE   INTKEY  ... ROADCOND                LIGHTCOND  \\\n",
       "0  Matched  Intersection  37475.0  ...      Wet                 Daylight   \n",
       "1  Matched         Block      NaN  ...      Wet  Dark - Street Lights On   \n",
       "2  Matched         Block      NaN  ...      Dry                 Daylight   \n",
       "3  Matched         Block      NaN  ...      Dry                 Daylight   \n",
       "4  Matched  Intersection  34387.0  ...      Wet                 Daylight   \n",
       "\n",
       "  PEDROWNOTGRNT  SDOTCOLNUM SPEEDING ST_COLCODE  \\\n",
       "0           NaN         NaN      NaN         10   \n",
       "1           NaN   6354039.0      NaN         11   \n",
       "2           NaN   4323031.0      NaN         32   \n",
       "3           NaN         NaN      NaN         23   \n",
       "4           NaN   4028032.0      NaN         10   \n",
       "\n",
       "                                          ST_COLDESC  SEGLANEKEY  \\\n",
       "0                                  Entering at angle           0   \n",
       "1  From same direction - both going straight - bo...           0   \n",
       "2                             One parked--one moving           0   \n",
       "3                   From same direction - all others           0   \n",
       "4                                  Entering at angle           0   \n",
       "\n",
       "   CROSSWALKKEY  HITPARKEDCAR  \n",
       "0             0             N  \n",
       "1             0             N  \n",
       "2             0             N  \n",
       "3             0             N  \n",
       "4             0             N  \n",
       "\n",
       "[5 rows x 38 columns]"
      ]
     },
     "execution_count": 3,
     "metadata": {},
     "output_type": "execute_result"
    }
   ],
   "source": [
    "data.head()"
   ]
  },
  {
   "cell_type": "markdown",
   "metadata": {},
   "source": [
    "##### Checking the shape of data"
   ]
  },
  {
   "cell_type": "code",
   "execution_count": 4,
   "metadata": {},
   "outputs": [
    {
     "data": {
      "text/plain": [
       "(194673, 38)"
      ]
     },
     "execution_count": 4,
     "metadata": {},
     "output_type": "execute_result"
    }
   ],
   "source": [
    "data.shape"
   ]
  },
  {
   "cell_type": "markdown",
   "metadata": {},
   "source": [
    "##### Checking the columns that are present in the dataset"
   ]
  },
  {
   "cell_type": "code",
   "execution_count": 5,
   "metadata": {},
   "outputs": [
    {
     "data": {
      "text/plain": [
       "Index(['SEVERITYCODE', 'X', 'Y', 'OBJECTID', 'INCKEY', 'COLDETKEY', 'REPORTNO',\n",
       "       'STATUS', 'ADDRTYPE', 'INTKEY', 'LOCATION', 'EXCEPTRSNCODE',\n",
       "       'EXCEPTRSNDESC', 'SEVERITYCODE.1', 'SEVERITYDESC', 'COLLISIONTYPE',\n",
       "       'PERSONCOUNT', 'PEDCOUNT', 'PEDCYLCOUNT', 'VEHCOUNT', 'INCDATE',\n",
       "       'INCDTTM', 'JUNCTIONTYPE', 'SDOT_COLCODE', 'SDOT_COLDESC',\n",
       "       'INATTENTIONIND', 'UNDERINFL', 'WEATHER', 'ROADCOND', 'LIGHTCOND',\n",
       "       'PEDROWNOTGRNT', 'SDOTCOLNUM', 'SPEEDING', 'ST_COLCODE', 'ST_COLDESC',\n",
       "       'SEGLANEKEY', 'CROSSWALKKEY', 'HITPARKEDCAR'],\n",
       "      dtype='object')"
      ]
     },
     "execution_count": 5,
     "metadata": {},
     "output_type": "execute_result"
    }
   ],
   "source": [
    "data.columns"
   ]
  },
  {
   "cell_type": "markdown",
   "metadata": {},
   "source": [
    "##### We don't need all the columns, we will select some important columns to begin with "
   ]
  },
  {
   "cell_type": "code",
   "execution_count": 6,
   "metadata": {},
   "outputs": [
    {
     "data": {
      "text/plain": [
       "(194673, 11)"
      ]
     },
     "execution_count": 6,
     "metadata": {},
     "output_type": "execute_result"
    }
   ],
   "source": [
    "#Preparing data\n",
    "data = data[[\"SEVERITYCODE\", \"ADDRTYPE\",\"COLLISIONTYPE\",\"VEHCOUNT\", \"INCDTTM\", \"JUNCTIONTYPE\", \"UNDERINFL\",\"INATTENTIONIND\", \"WEATHER\", \"ROADCOND\", \"LIGHTCOND\"]]\n",
    "data.shape"
   ]
  },
  {
   "cell_type": "markdown",
   "metadata": {},
   "source": [
    "So, we are left with 11 columns including hte dependent variable - 'SEVERITYCODE'\n",
    "\n",
    "Let us explore the top 5 rows"
   ]
  },
  {
   "cell_type": "code",
   "execution_count": 7,
   "metadata": {},
   "outputs": [
    {
     "data": {
      "text/html": [
       "<div>\n",
       "<style scoped>\n",
       "    .dataframe tbody tr th:only-of-type {\n",
       "        vertical-align: middle;\n",
       "    }\n",
       "\n",
       "    .dataframe tbody tr th {\n",
       "        vertical-align: top;\n",
       "    }\n",
       "\n",
       "    .dataframe thead th {\n",
       "        text-align: right;\n",
       "    }\n",
       "</style>\n",
       "<table border=\"1\" class=\"dataframe\">\n",
       "  <thead>\n",
       "    <tr style=\"text-align: right;\">\n",
       "      <th></th>\n",
       "      <th>SEVERITYCODE</th>\n",
       "      <th>ADDRTYPE</th>\n",
       "      <th>COLLISIONTYPE</th>\n",
       "      <th>VEHCOUNT</th>\n",
       "      <th>INCDTTM</th>\n",
       "      <th>JUNCTIONTYPE</th>\n",
       "      <th>UNDERINFL</th>\n",
       "      <th>INATTENTIONIND</th>\n",
       "      <th>WEATHER</th>\n",
       "      <th>ROADCOND</th>\n",
       "      <th>LIGHTCOND</th>\n",
       "    </tr>\n",
       "  </thead>\n",
       "  <tbody>\n",
       "    <tr>\n",
       "      <th>0</th>\n",
       "      <td>2</td>\n",
       "      <td>Intersection</td>\n",
       "      <td>Angles</td>\n",
       "      <td>2</td>\n",
       "      <td>3/27/2013 2:54:00 PM</td>\n",
       "      <td>At Intersection (intersection related)</td>\n",
       "      <td>N</td>\n",
       "      <td>NaN</td>\n",
       "      <td>Overcast</td>\n",
       "      <td>Wet</td>\n",
       "      <td>Daylight</td>\n",
       "    </tr>\n",
       "    <tr>\n",
       "      <th>1</th>\n",
       "      <td>1</td>\n",
       "      <td>Block</td>\n",
       "      <td>Sideswipe</td>\n",
       "      <td>2</td>\n",
       "      <td>12/20/2006 6:55:00 PM</td>\n",
       "      <td>Mid-Block (not related to intersection)</td>\n",
       "      <td>0</td>\n",
       "      <td>NaN</td>\n",
       "      <td>Raining</td>\n",
       "      <td>Wet</td>\n",
       "      <td>Dark - Street Lights On</td>\n",
       "    </tr>\n",
       "    <tr>\n",
       "      <th>2</th>\n",
       "      <td>1</td>\n",
       "      <td>Block</td>\n",
       "      <td>Parked Car</td>\n",
       "      <td>3</td>\n",
       "      <td>11/18/2004 10:20:00 AM</td>\n",
       "      <td>Mid-Block (not related to intersection)</td>\n",
       "      <td>0</td>\n",
       "      <td>NaN</td>\n",
       "      <td>Overcast</td>\n",
       "      <td>Dry</td>\n",
       "      <td>Daylight</td>\n",
       "    </tr>\n",
       "    <tr>\n",
       "      <th>3</th>\n",
       "      <td>1</td>\n",
       "      <td>Block</td>\n",
       "      <td>Other</td>\n",
       "      <td>3</td>\n",
       "      <td>3/29/2013 9:26:00 AM</td>\n",
       "      <td>Mid-Block (not related to intersection)</td>\n",
       "      <td>N</td>\n",
       "      <td>NaN</td>\n",
       "      <td>Clear</td>\n",
       "      <td>Dry</td>\n",
       "      <td>Daylight</td>\n",
       "    </tr>\n",
       "    <tr>\n",
       "      <th>4</th>\n",
       "      <td>2</td>\n",
       "      <td>Intersection</td>\n",
       "      <td>Angles</td>\n",
       "      <td>2</td>\n",
       "      <td>1/28/2004 8:04:00 AM</td>\n",
       "      <td>At Intersection (intersection related)</td>\n",
       "      <td>0</td>\n",
       "      <td>NaN</td>\n",
       "      <td>Raining</td>\n",
       "      <td>Wet</td>\n",
       "      <td>Daylight</td>\n",
       "    </tr>\n",
       "  </tbody>\n",
       "</table>\n",
       "</div>"
      ],
      "text/plain": [
       "   SEVERITYCODE      ADDRTYPE COLLISIONTYPE  VEHCOUNT                 INCDTTM  \\\n",
       "0             2  Intersection        Angles         2    3/27/2013 2:54:00 PM   \n",
       "1             1         Block     Sideswipe         2   12/20/2006 6:55:00 PM   \n",
       "2             1         Block    Parked Car         3  11/18/2004 10:20:00 AM   \n",
       "3             1         Block         Other         3    3/29/2013 9:26:00 AM   \n",
       "4             2  Intersection        Angles         2    1/28/2004 8:04:00 AM   \n",
       "\n",
       "                              JUNCTIONTYPE UNDERINFL INATTENTIONIND   WEATHER  \\\n",
       "0   At Intersection (intersection related)         N            NaN  Overcast   \n",
       "1  Mid-Block (not related to intersection)         0            NaN   Raining   \n",
       "2  Mid-Block (not related to intersection)         0            NaN  Overcast   \n",
       "3  Mid-Block (not related to intersection)         N            NaN     Clear   \n",
       "4   At Intersection (intersection related)         0            NaN   Raining   \n",
       "\n",
       "  ROADCOND                LIGHTCOND  \n",
       "0      Wet                 Daylight  \n",
       "1      Wet  Dark - Street Lights On  \n",
       "2      Dry                 Daylight  \n",
       "3      Dry                 Daylight  \n",
       "4      Wet                 Daylight  "
      ]
     },
     "execution_count": 7,
     "metadata": {},
     "output_type": "execute_result"
    }
   ],
   "source": [
    "data.head()"
   ]
  },
  {
   "cell_type": "markdown",
   "metadata": {},
   "source": [
    "##### Cheking the data type of variables and also the total non-null count of each column"
   ]
  },
  {
   "cell_type": "code",
   "execution_count": 8,
   "metadata": {},
   "outputs": [
    {
     "name": "stdout",
     "output_type": "stream",
     "text": [
      "<class 'pandas.core.frame.DataFrame'>\n",
      "RangeIndex: 194673 entries, 0 to 194672\n",
      "Data columns (total 11 columns):\n",
      " #   Column          Non-Null Count   Dtype \n",
      "---  ------          --------------   ----- \n",
      " 0   SEVERITYCODE    194673 non-null  int64 \n",
      " 1   ADDRTYPE        192747 non-null  object\n",
      " 2   COLLISIONTYPE   189769 non-null  object\n",
      " 3   VEHCOUNT        194673 non-null  int64 \n",
      " 4   INCDTTM         194673 non-null  object\n",
      " 5   JUNCTIONTYPE    188344 non-null  object\n",
      " 6   UNDERINFL       189789 non-null  object\n",
      " 7   INATTENTIONIND  29805 non-null   object\n",
      " 8   WEATHER         189592 non-null  object\n",
      " 9   ROADCOND        189661 non-null  object\n",
      " 10  LIGHTCOND       189503 non-null  object\n",
      "dtypes: int64(2), object(9)\n",
      "memory usage: 16.3+ MB\n"
     ]
    }
   ],
   "source": [
    "data.info()"
   ]
  },
  {
   "cell_type": "markdown",
   "metadata": {},
   "source": [
    "##### Checking the total null values in each column"
   ]
  },
  {
   "cell_type": "code",
   "execution_count": 9,
   "metadata": {},
   "outputs": [
    {
     "name": "stdout",
     "output_type": "stream",
     "text": [
      "Column \t\t No. of Null Values\n",
      "-----------------------------------\n"
     ]
    },
    {
     "data": {
      "text/plain": [
       "SEVERITYCODE           0\n",
       "ADDRTYPE            1926\n",
       "COLLISIONTYPE       4904\n",
       "VEHCOUNT               0\n",
       "INCDTTM                0\n",
       "JUNCTIONTYPE        6329\n",
       "UNDERINFL           4884\n",
       "INATTENTIONIND    164868\n",
       "WEATHER             5081\n",
       "ROADCOND            5012\n",
       "LIGHTCOND           5170\n",
       "dtype: int64"
      ]
     },
     "execution_count": 9,
     "metadata": {},
     "output_type": "execute_result"
    }
   ],
   "source": [
    "print(\"Column \\t\\t No. of Null Values\")\n",
    "print(\"-\"*35)\n",
    "data.isnull().sum()\n",
    "# for column in data.columns:\n",
    "#     print(column,\"\\t:\\t\",sum(data[column].isna()))"
   ]
  },
  {
   "cell_type": "markdown",
   "metadata": {},
   "source": [
    "##### Let's explore the unique value(s) of each columns to know what type of values are there in each column"
   ]
  },
  {
   "cell_type": "code",
   "execution_count": 10,
   "metadata": {
    "scrolled": false
   },
   "outputs": [
    {
     "name": "stdout",
     "output_type": "stream",
     "text": [
      "Column Name :\t SEVERITYCODE\n",
      "1    136485\n",
      "2     58188\n",
      "Name: SEVERITYCODE, dtype: int64\n",
      "------------------------------\n",
      "Column Name :\t ADDRTYPE\n",
      "Block           126926\n",
      "Intersection     65070\n",
      "Alley              751\n",
      "Name: ADDRTYPE, dtype: int64\n",
      "------------------------------\n",
      "Column Name :\t COLLISIONTYPE\n",
      "Parked Car    47987\n",
      "Angles        34674\n",
      "Rear Ended    34090\n",
      "Other         23703\n",
      "Sideswipe     18609\n",
      "Left Turn     13703\n",
      "Pedestrian     6608\n",
      "Cycles         5415\n",
      "Right Turn     2956\n",
      "Head On        2024\n",
      "Name: COLLISIONTYPE, dtype: int64\n",
      "------------------------------\n",
      "Column Name :\t VEHCOUNT\n",
      "2     147650\n",
      "1      25748\n",
      "3      13010\n",
      "0       5085\n",
      "4       2426\n",
      "5        529\n",
      "6        146\n",
      "7         46\n",
      "8         15\n",
      "9          9\n",
      "11         6\n",
      "10         2\n",
      "12         1\n",
      "Name: VEHCOUNT, dtype: int64\n",
      "------------------------------\n",
      "Column Name :\t INCDTTM\n",
      "11/2/2006                96\n",
      "10/3/2008                91\n",
      "11/5/2005                83\n",
      "12/4/2004                74\n",
      "6/1/2006                 73\n",
      "                         ..\n",
      "8/27/2019 6:57:00 PM      1\n",
      "11/14/2007 6:34:00 PM     1\n",
      "7/26/2018 7:45:00 AM      1\n",
      "5/21/2011 11:31:00 PM     1\n",
      "1/3/2015 1:54:00 PM       1\n",
      "Name: INCDTTM, Length: 162058, dtype: int64\n",
      "------------------------------\n",
      "Column Name :\t JUNCTIONTYPE\n",
      "Mid-Block (not related to intersection)              89800\n",
      "At Intersection (intersection related)               62810\n",
      "Mid-Block (but intersection related)                 22790\n",
      "Driveway Junction                                    10671\n",
      "At Intersection (but not related to intersection)     2098\n",
      "Ramp Junction                                          166\n",
      "Unknown                                                  9\n",
      "Name: JUNCTIONTYPE, dtype: int64\n",
      "------------------------------\n",
      "Column Name :\t UNDERINFL\n",
      "N    100274\n",
      "0     80394\n",
      "Y      5126\n",
      "1      3995\n",
      "Name: UNDERINFL, dtype: int64\n",
      "------------------------------\n",
      "Column Name :\t INATTENTIONIND\n",
      "Y    29805\n",
      "Name: INATTENTIONIND, dtype: int64\n",
      "------------------------------\n",
      "Column Name :\t WEATHER\n",
      "Clear                       111135\n",
      "Raining                      33145\n",
      "Overcast                     27714\n",
      "Unknown                      15091\n",
      "Snowing                        907\n",
      "Other                          832\n",
      "Fog/Smog/Smoke                 569\n",
      "Sleet/Hail/Freezing Rain       113\n",
      "Blowing Sand/Dirt               56\n",
      "Severe Crosswind                25\n",
      "Partly Cloudy                    5\n",
      "Name: WEATHER, dtype: int64\n",
      "------------------------------\n",
      "Column Name :\t ROADCOND\n",
      "Dry               124510\n",
      "Wet                47474\n",
      "Unknown            15078\n",
      "Ice                 1209\n",
      "Snow/Slush          1004\n",
      "Other                132\n",
      "Standing Water       115\n",
      "Sand/Mud/Dirt         75\n",
      "Oil                   64\n",
      "Name: ROADCOND, dtype: int64\n",
      "------------------------------\n",
      "Column Name :\t LIGHTCOND\n",
      "Daylight                    116137\n",
      "Dark - Street Lights On      48507\n",
      "Unknown                      13473\n",
      "Dusk                          5902\n",
      "Dawn                          2502\n",
      "Dark - No Street Lights       1537\n",
      "Dark - Street Lights Off      1199\n",
      "Other                          235\n",
      "Dark - Unknown Lighting         11\n",
      "Name: LIGHTCOND, dtype: int64\n",
      "------------------------------\n"
     ]
    }
   ],
   "source": [
    "for column in data.columns:\n",
    "    print(\"Column Name :\\t\",column)\n",
    "    print(data[column].value_counts())\n",
    "    print('-'*30)"
   ]
  },
  {
   "cell_type": "markdown",
   "metadata": {},
   "source": [
    "##  Data Preprocessing"
   ]
  },
  {
   "cell_type": "markdown",
   "metadata": {},
   "source": [
    "###### As we saw above, some of the columns have value as - 'Unknown\". We will remove all those rows having even a single 'Unknown' value"
   ]
  },
  {
   "cell_type": "code",
   "execution_count": 11,
   "metadata": {},
   "outputs": [
    {
     "name": "stdout",
     "output_type": "stream",
     "text": [
      "Shape before dropping rows :  (194673, 11)\n",
      "Shape after dropping rows :  (175763, 11)\n"
     ]
    }
   ],
   "source": [
    "print(\"Shape before dropping rows : \",data.shape)\n",
    "drop_index = ((data.INCDTTM=='Unknown') | (data.WEATHER=='Unknown') | (data.ROADCOND=='Unknown')|(data.LIGHTCOND =='Unknown')|(data.JUNCTIONTYPE =='Unknown'))\n",
    "data.drop(data[drop_index].index, inplace=True)\n",
    "print(\"Shape after dropping rows : \",data.shape)"
   ]
  },
  {
   "cell_type": "markdown",
   "metadata": {},
   "source": [
    "###### We also have some data inconsitency, we will solve those as well"
   ]
  },
  {
   "cell_type": "code",
   "execution_count": 12,
   "metadata": {},
   "outputs": [],
   "source": [
    "data['UNDERINFL'].replace(\"Y\",1,inplace=True)\n",
    "data['UNDERINFL'].replace(\"N\",0,inplace=True)\n",
    "data['UNDERINFL'] = pd.to_numeric(data['UNDERINFL'])\n",
    "\n",
    "data[\"LIGHTCOND\"].replace(\"Dark - Street Lights Off\", \"Dark - No Street Lights\", inplace=True)\n",
    "data[\"LIGHTCOND\"].replace(\"Dark - Unknown Lighting\", \"Dark - No Street Lights\", inplace=True)\n",
    "\n",
    "data['INATTENTIONIND'].replace(\"Y\",1,inplace=True)\n"
   ]
  },
  {
   "cell_type": "markdown",
   "metadata": {},
   "source": [
    "###### There were some null values. We will fill some wiht 0, and will drop some."
   ]
  },
  {
   "cell_type": "code",
   "execution_count": 13,
   "metadata": {},
   "outputs": [
    {
     "data": {
      "text/plain": [
       "(167840, 11)"
      ]
     },
     "execution_count": 13,
     "metadata": {},
     "output_type": "execute_result"
    }
   ],
   "source": [
    "data['UNDERINFL'].fillna(0, inplace=True)\n",
    "data['INATTENTIONIND'].fillna(0,inplace = True)\n",
    "\n",
    "data.dropna(inplace=True)\n",
    "data.shape"
   ]
  },
  {
   "cell_type": "markdown",
   "metadata": {},
   "source": [
    "###### Now, checking again for any non-value"
   ]
  },
  {
   "cell_type": "code",
   "execution_count": 14,
   "metadata": {},
   "outputs": [
    {
     "data": {
      "text/plain": [
       "SEVERITYCODE      0\n",
       "ADDRTYPE          0\n",
       "COLLISIONTYPE     0\n",
       "VEHCOUNT          0\n",
       "INCDTTM           0\n",
       "JUNCTIONTYPE      0\n",
       "UNDERINFL         0\n",
       "INATTENTIONIND    0\n",
       "WEATHER           0\n",
       "ROADCOND          0\n",
       "LIGHTCOND         0\n",
       "dtype: int64"
      ]
     },
     "execution_count": 14,
     "metadata": {},
     "output_type": "execute_result"
    }
   ],
   "source": [
    "data.isna().sum()"
   ]
  },
  {
   "cell_type": "code",
   "execution_count": 15,
   "metadata": {},
   "outputs": [
    {
     "name": "stdout",
     "output_type": "stream",
     "text": [
      "<class 'pandas.core.frame.DataFrame'>\n",
      "Int64Index: 167840 entries, 0 to 194672\n",
      "Data columns (total 11 columns):\n",
      " #   Column          Non-Null Count   Dtype  \n",
      "---  ------          --------------   -----  \n",
      " 0   SEVERITYCODE    167840 non-null  int64  \n",
      " 1   ADDRTYPE        167840 non-null  object \n",
      " 2   COLLISIONTYPE   167840 non-null  object \n",
      " 3   VEHCOUNT        167840 non-null  int64  \n",
      " 4   INCDTTM         167840 non-null  object \n",
      " 5   JUNCTIONTYPE    167840 non-null  object \n",
      " 6   UNDERINFL       167840 non-null  float64\n",
      " 7   INATTENTIONIND  167840 non-null  float64\n",
      " 8   WEATHER         167840 non-null  object \n",
      " 9   ROADCOND        167840 non-null  object \n",
      " 10  LIGHTCOND       167840 non-null  object \n",
      "dtypes: float64(2), int64(2), object(7)\n",
      "memory usage: 15.4+ MB\n"
     ]
    }
   ],
   "source": [
    "data.info()"
   ]
  },
  {
   "cell_type": "markdown",
   "metadata": {},
   "source": [
    "###### So, now we don't have any null values. Data cleanup is done. We can move to next stepof Data Visualization"
   ]
  },
  {
   "cell_type": "markdown",
   "metadata": {},
   "source": [
    "## <br>Data Visualization\n",
    "\n",
    "###### We will try to gain some insights from data through graphs.\n"
   ]
  },
  {
   "cell_type": "markdown",
   "metadata": {},
   "source": [
    "###### We had a column - 'INCDTTM' which had the details about time of accident. We will convert it into timestamp format and then will try to visualize whether there is any relationship between happening of accident and time/days/months/years."
   ]
  },
  {
   "cell_type": "code",
   "execution_count": 16,
   "metadata": {},
   "outputs": [],
   "source": [
    "data['INCDTTM'] = pd.to_datetime(data['INCDTTM'])"
   ]
  },
  {
   "cell_type": "code",
   "execution_count": 17,
   "metadata": {},
   "outputs": [],
   "source": [
    "years = pd.DatetimeIndex(data['INCDTTM']).year.value_counts(sort=False)"
   ]
  },
  {
   "cell_type": "code",
   "execution_count": 18,
   "metadata": {},
   "outputs": [],
   "source": [
    "months = pd.DatetimeIndex(data['INCDTTM']).month.value_counts(sort=False)"
   ]
  },
  {
   "cell_type": "code",
   "execution_count": 19,
   "metadata": {},
   "outputs": [],
   "source": [
    "days = pd.DatetimeIndex(data['INCDTTM']).dayofweek.value_counts(sort=False)"
   ]
  },
  {
   "cell_type": "code",
   "execution_count": 20,
   "metadata": {},
   "outputs": [],
   "source": [
    "#Plotting plots for years, weeks, month\n"
   ]
  },
  {
   "cell_type": "code",
   "execution_count": 21,
   "metadata": {},
   "outputs": [
    {
     "data": {
      "text/plain": [
       "Text(0, 0.5, 'No. of Accidents')"
      ]
     },
     "execution_count": 21,
     "metadata": {},
     "output_type": "execute_result"
    },
    {
     "data": {
      "image/png": "[encoded data removed]",
      "text/plain": [
       "<Figure size 864x432 with 1 Axes>"
      ]
     },
     "metadata": {
      "needs_background": "light"
     },
     "output_type": "display_data"
    }
   ],
   "source": [
    "years.plot(kind='bar', figsize=(12,6),fontsize=14)\n",
    "plt.title(\"Years vs. No. of Accident in that year\")\n",
    "plt.xlabel(\"Years\")\n",
    "plt.ylabel(\"No. of Accidents\")\n"
   ]
  },
  {
   "cell_type": "code",
   "execution_count": 22,
   "metadata": {},
   "outputs": [
    {
     "data": {
      "text/plain": [
       "Text(0, 0.5, 'No. of Accidents')"
      ]
     },
     "execution_count": 22,
     "metadata": {},
     "output_type": "execute_result"
    },
    {
     "data": {
      "image/png": "[encoded data removed]",
      "text/plain": [
       "<Figure size 864x432 with 1 Axes>"
      ]
     },
     "metadata": {
      "needs_background": "light"
     },
     "output_type": "display_data"
    }
   ],
   "source": [
    "ax = months.plot(kind='bar', figsize=(12,6),fontsize=14)\n",
    "ax.set_xticklabels(['Jan','Feb','Mar','Apr','May','June','July','Aug','Sep','Oct','Nov','Dec'],rotation = 20)\n",
    "plt.title(\"Months vs. No. of Accident in that month\")\n",
    "plt.xlabel(\"Months\")\n",
    "plt.ylabel(\"No. of Accidents\")"
   ]
  },
  {
   "cell_type": "code",
   "execution_count": 23,
   "metadata": {},
   "outputs": [
    {
     "data": {
      "text/plain": [
       "Text(0, 0.5, 'No. of Accidents')"
      ]
     },
     "execution_count": 23,
     "metadata": {},
     "output_type": "execute_result"
    },
    {
     "data": {
      "image/png": "[encoded data removed]",
      "text/plain": [
       "<Figure size 864x432 with 1 Axes>"
      ]
     },
     "metadata": {
      "needs_background": "light"
     },
     "output_type": "display_data"
    }
   ],
   "source": [
    "ax = days.plot(kind='bar', figsize=(12,6),fontsize=14)\n",
    "ax.set_xticklabels((\"Monday\",\"Tuesday\",\"Wednesday\",\"Thursday\",\"Friday\",\"Saturday\",\"Sunday\"),rotation = 20)\n",
    "plt.plot()\n",
    "plt.title(\"Dyas of Week vs. No. of Accident on that day\")\n",
    "plt.xlabel(\"Days of Week\")\n",
    "plt.ylabel(\"No. of Accidents\")"
   ]
  },
  {
   "cell_type": "code",
   "execution_count": 24,
   "metadata": {},
   "outputs": [
    {
     "data": {
      "image/png": "[encoded data removed]",
      "text/plain": [
       "<Figure size 1080x576 with 1 Axes>"
      ]
     },
     "metadata": {
      "needs_background": "light"
     },
     "output_type": "display_data"
    }
   ],
   "source": [
    "times = data.INCDTTM.dt.hour\n",
    "plt.figure(figsize=(15,8))\n",
    "plt.hist(times,bins=range(0,25))\n",
    "plt.xticks(range(25));\n",
    "\n"
   ]
  },
  {
   "cell_type": "markdown",
   "metadata": {},
   "source": [
    "So, we plotted the no. of accidents at different hours of a day, on different days, different months and different years.\n",
    "From the above plots, we can see that no. of accidents in the initial years were very high, but they are decreasing now. Also, in 2020, most probably because of lockdown, no. of accidents are very low, which is a good news.\n",
    "\n",
    "When we see at differen months and different days, there is no special observation. October sees more accidents than any other months, maybe weather has a role to play in it.\n",
    "\n",
    "In terms of different hours of a day, no. of accidents at midnight is very high in comparison to other, and then as expected, most of the accdeints happen in the rush hours."
   ]
  },
  {
   "cell_type": "markdown",
   "metadata": {},
   "source": [
    "###### Visualizing the no. of accidents at different addrees types"
   ]
  },
  {
   "cell_type": "code",
   "execution_count": 25,
   "metadata": {},
   "outputs": [
    {
     "data": {
      "text/plain": [
       "Text(0, 0.5, 'No. of Accidents')"
      ]
     },
     "execution_count": 25,
     "metadata": {},
     "output_type": "execute_result"
    },
    {
     "data": {
      "image/png": "[encoded data removed]",
      "text/plain": [
       "<Figure size 432x432 with 1 Axes>"
      ]
     },
     "metadata": {
      "needs_background": "light"
     },
     "output_type": "display_data"
    }
   ],
   "source": [
    "data.ADDRTYPE.value_counts().plot(kind='bar',figsize=(6,6),fontsize=14)\n",
    "plt.title(\"Collision Address Types vs No. of Accidnets\")\n",
    "plt.xlabel(\"Collision Address Types\")\n",
    "plt.ylabel(\"No. of Accidents\")"
   ]
  },
  {
   "cell_type": "code",
   "execution_count": 26,
   "metadata": {},
   "outputs": [
    {
     "data": {
      "text/plain": [
       "Text(0, 0.5, 'No. of Accidents')"
      ]
     },
     "execution_count": 26,
     "metadata": {},
     "output_type": "execute_result"
    },
    {
     "data": {
      "image/png": "[encoded data removed]",
      "text/plain": [
       "<Figure size 432x288 with 1 Axes>"
      ]
     },
     "metadata": {
      "needs_background": "light"
     },
     "output_type": "display_data"
    }
   ],
   "source": [
    "#data.VEHCOUNT.value_counts()\n",
    "plt.hist(data['VEHCOUNT'],bins=range(0,13));\n",
    "plt.title(\"No. of Vehicles involved vs. No. of Accidents\")\n",
    "plt.xlabel(\"Vehicles Count\")\n",
    "plt.ylabel(\"No. of Accidents\")"
   ]
  },
  {
   "cell_type": "markdown",
   "metadata": {},
   "source": [
    "From the above graph, it is evident that in most of the accidents 2-3 vehicles were involved. There are also some outliers like 8-12 vehicles, but they are very rare."
   ]
  },
  {
   "cell_type": "code",
   "execution_count": 27,
   "metadata": {},
   "outputs": [
    {
     "data": {
      "image/png": "[encoded data removed]",
      "text/plain": [
       "<Figure size 576x576 with 1 Axes>"
      ]
     },
     "metadata": {
      "needs_background": "light"
     },
     "output_type": "display_data"
    }
   ],
   "source": [
    "fig, ax = plt.subplots(figsize=(8,8))\n",
    "sns.countplot(y=data['COLLISIONTYPE'], hue=data['SEVERITYCODE'],ax=ax).set(title = 'Different Collision types and severity');\n"
   ]
  },
  {
   "cell_type": "code",
   "execution_count": 28,
   "metadata": {},
   "outputs": [
    {
     "data": {
      "image/png": "[encoded data removed]",
      "text/plain": [
       "<Figure size 576x576 with 1 Axes>"
      ]
     },
     "metadata": {
      "needs_background": "light"
     },
     "output_type": "display_data"
    }
   ],
   "source": [
    "fig, ax = plt.subplots(figsize=(8,8))\n",
    "sns.countplot(y=data['JUNCTIONTYPE'], hue=data['SEVERITYCODE'],ax=ax).set(title = 'Different Junction types and severity of accidents at those junctions');"
   ]
  },
  {
   "cell_type": "code",
   "execution_count": 29,
   "metadata": {},
   "outputs": [
    {
     "data": {
      "image/png": "[encoded data removed]",
      "text/plain": [
       "<Figure size 576x576 with 1 Axes>"
      ]
     },
     "metadata": {
      "needs_background": "light"
     },
     "output_type": "display_data"
    }
   ],
   "source": [
    "fig, ax = plt.subplots(figsize=(8,8))\n",
    "sns.countplot(y=data['UNDERINFL'], hue=data['SEVERITYCODE'],ax=ax).set(title = 'Effect of Drugs/Alcohol on accidents');"
   ]
  },
  {
   "cell_type": "code",
   "execution_count": 30,
   "metadata": {},
   "outputs": [
    {
     "data": {
      "image/png": "[encoded data removed]",
      "text/plain": [
       "<Figure size 576x576 with 1 Axes>"
      ]
     },
     "metadata": {
      "needs_background": "light"
     },
     "output_type": "display_data"
    }
   ],
   "source": [
    "fig, ax = plt.subplots(figsize=(8,8))\n",
    "sns.countplot(y=data['INATTENTIONIND'], hue=data['SEVERITYCODE'],ax=ax);"
   ]
  },
  {
   "cell_type": "code",
   "execution_count": 31,
   "metadata": {},
   "outputs": [
    {
     "data": {
      "image/png": "[encoded data removed]",
      "text/plain": [
       "<Figure size 576x576 with 1 Axes>"
      ]
     },
     "metadata": {
      "needs_background": "light"
     },
     "output_type": "display_data"
    }
   ],
   "source": [
    "fig, ax = plt.subplots(figsize=(8,8))\n",
    "sns.countplot(y=data['WEATHER'], hue=data['SEVERITYCODE'],ax=ax).set(title = 'Effect of weather types on accidents');"
   ]
  },
  {
   "cell_type": "code",
   "execution_count": 32,
   "metadata": {},
   "outputs": [
    {
     "data": {
      "image/png": "[encoded data removed]",
      "text/plain": [
       "<Figure size 576x576 with 1 Axes>"
      ]
     },
     "metadata": {
      "needs_background": "light"
     },
     "output_type": "display_data"
    }
   ],
   "source": [
    "fig, ax = plt.subplots(figsize=(8,8))\n",
    "sns.countplot(y=data['ROADCOND'], hue=data['SEVERITYCODE'],ax=ax).set(title = 'Effect of Road Conditions on accidents');"
   ]
  },
  {
   "cell_type": "code",
   "execution_count": 33,
   "metadata": {},
   "outputs": [
    {
     "data": {
      "image/png": "[encoded data removed]",
      "text/plain": [
       "<Figure size 576x576 with 1 Axes>"
      ]
     },
     "metadata": {
      "needs_background": "light"
     },
     "output_type": "display_data"
    }
   ],
   "source": [
    "fig, ax = plt.subplots(figsize=(8,8))\n",
    "sns.countplot(y=data['LIGHTCOND'], hue=data['SEVERITYCODE'],ax=ax).set(title = 'Effect of Lighting Conditions on accidents');"
   ]
  },
  {
   "cell_type": "markdown",
   "metadata": {},
   "source": [
    "### Preparing the dataset for modelling"
   ]
  },
  {
   "cell_type": "code",
   "execution_count": 34,
   "metadata": {},
   "outputs": [
    {
     "name": "stdout",
     "output_type": "stream",
     "text": [
      "(167840, 10)\n",
      "(167840,)\n"
     ]
    }
   ],
   "source": [
    "#Replacing the SEVERITYCODE from (2,1) to (1,0) for simplicity\n",
    "data['SEVERITYCODE'].replace(1,0,inplace=True)\n",
    "data['SEVERITYCODE'].replace(2,1,inplace=True)\n",
    "\n",
    "#Distributing the datset in X(for independent variables), and y(dependent variable)\n",
    "X = data.drop(['SEVERITYCODE'],axis=1)\n",
    "y = data['SEVERITYCODE'].values\n",
    "print(X.shape)\n",
    "print(y.shape)"
   ]
  },
  {
   "cell_type": "code",
   "execution_count": 35,
   "metadata": {},
   "outputs": [
    {
     "data": {
      "image/png": "[encoded data removed]",
      "text/plain": [
       "<Figure size 432x288 with 1 Axes>"
      ]
     },
     "metadata": {
      "needs_background": "light"
     },
     "output_type": "display_data"
    }
   ],
   "source": [
    "sns.countplot(y);"
   ]
  },
  {
   "cell_type": "markdown",
   "metadata": {},
   "source": [
    "One thing that we can see from the above plot is that our dataset is highly imbalanced. This can impact the accuracy of our model a lot.So, we will be balancing the two classes by sampling. We will actually do oversampling of minority class, followed by undersampling of majority class."
   ]
  },
  {
   "cell_type": "code",
   "execution_count": 36,
   "metadata": {},
   "outputs": [],
   "source": [
    "from imblearn.over_sampling import RandomOverSampler\n",
    "from imblearn.under_sampling import RandomUnderSampler\n",
    "\n",
    "# defining oversampling strategy\n",
    "over = RandomOverSampler(sampling_strategy=0.6)\n",
    "# fit and apply the transform\n",
    "X, y = over.fit_resample(X, y)\n",
    "\n",
    "# defining undersampling strategy\n",
    "under = RandomUnderSampler(sampling_strategy='auto')\n",
    "# fit and apply the transform\n",
    "X, y = under.fit_resample(X, y)"
   ]
  },
  {
   "cell_type": "code",
   "execution_count": 37,
   "metadata": {},
   "outputs": [
    {
     "data": {
      "image/png": "[encoded data removed]",
      "text/plain": [
       "<Figure size 432x288 with 1 Axes>"
      ]
     },
     "metadata": {
      "needs_background": "light"
     },
     "output_type": "display_data"
    }
   ],
   "source": [
    "sns.countplot(y);"
   ]
  },
  {
   "cell_type": "markdown",
   "metadata": {},
   "source": [
    "#### Visualizing the data after sampling"
   ]
  },
  {
   "cell_type": "code",
   "execution_count": 38,
   "metadata": {},
   "outputs": [
    {
     "data": {
      "text/plain": [
       "<matplotlib.axes._subplots.AxesSubplot at 0x25d042aeaf0>"
      ]
     },
     "execution_count": 38,
     "metadata": {},
     "output_type": "execute_result"
    },
    {
     "data": {
      "image/png": "[encoded data removed]",
      "text/plain": [
       "<Figure size 1944x1080 with 9 Axes>"
      ]
     },
     "metadata": {
      "needs_background": "light"
     },
     "output_type": "display_data"
    }
   ],
   "source": [
    "fig, axs = plt.subplots(ncols=3, nrows=3, figsize=(27,15))\n",
    "plt.subplots_adjust(hspace = 0.8, wspace=0.8)\n",
    "sns.countplot(y=X[\"ADDRTYPE\"], hue=y, ax=axs[0, 0])\n",
    "sns.countplot(y=X[\"COLLISIONTYPE\"], hue=y, ax=axs[0,1])\n",
    "sns.countplot(y=X[\"JUNCTIONTYPE\"], hue=y, ax=axs[0, 2])\n",
    "sns.countplot(y=X[\"WEATHER\"], hue=y, ax=axs[1, 0])\n",
    "sns.countplot(y=X[\"ROADCOND\"], hue=y, ax=axs[1, 1])\n",
    "sns.countplot(y=X[\"LIGHTCOND\"], hue=y, ax=axs[1, 2])\n",
    "sns.countplot(y=X[\"UNDERINFL\"], hue=y, ax=axs[2, 0])\n",
    "sns.countplot(y=X[\"INATTENTIONIND\"], hue=y, ax=axs[2, 1])"
   ]
  },
  {
   "cell_type": "code",
   "execution_count": 39,
   "metadata": {},
   "outputs": [
    {
     "name": "stdout",
     "output_type": "stream",
     "text": [
      "<class 'pandas.core.frame.DataFrame'>\n",
      "RangeIndex: 134840 entries, 0 to 134839\n",
      "Data columns (total 10 columns):\n",
      " #   Column          Non-Null Count   Dtype         \n",
      "---  ------          --------------   -----         \n",
      " 0   ADDRTYPE        134840 non-null  object        \n",
      " 1   COLLISIONTYPE   134840 non-null  object        \n",
      " 2   VEHCOUNT        134840 non-null  int64         \n",
      " 3   INCDTTM         134840 non-null  datetime64[ns]\n",
      " 4   JUNCTIONTYPE    134840 non-null  object        \n",
      " 5   UNDERINFL       134840 non-null  float64       \n",
      " 6   INATTENTIONIND  134840 non-null  float64       \n",
      " 7   WEATHER         134840 non-null  object        \n",
      " 8   ROADCOND        134840 non-null  object        \n",
      " 9   LIGHTCOND       134840 non-null  object        \n",
      "dtypes: datetime64[ns](1), float64(2), int64(1), object(6)\n",
      "memory usage: 10.3+ MB\n"
     ]
    }
   ],
   "source": [
    "X.info()"
   ]
  },
  {
   "cell_type": "markdown",
   "metadata": {},
   "source": [
    "#### We can see that we have some categorical value in our columns. Most algorithms can't work with categorical algorithms, so we will convert them into numerical type using one-hot encoding."
   ]
  },
  {
   "cell_type": "code",
   "execution_count": 40,
   "metadata": {},
   "outputs": [],
   "source": [
    "final_feat = pd.concat([pd.get_dummies(X['ADDRTYPE']), \n",
    "                        pd.get_dummies(X['COLLISIONTYPE']),                             \n",
    "                        pd.get_dummies(X['JUNCTIONTYPE']), \n",
    "                        pd.get_dummies(X['WEATHER']), \n",
    "                        pd.get_dummies(X['ROADCOND']),\n",
    "                        pd.get_dummies(X['LIGHTCOND']),\n",
    "                        X['UNDERINFL']], axis=1)"
   ]
  },
  {
   "cell_type": "code",
   "execution_count": 41,
   "metadata": {},
   "outputs": [
    {
     "data": {
      "text/html": [
       "<div>\n",
       "<style scoped>\n",
       "    .dataframe tbody tr th:only-of-type {\n",
       "        vertical-align: middle;\n",
       "    }\n",
       "\n",
       "    .dataframe tbody tr th {\n",
       "        vertical-align: top;\n",
       "    }\n",
       "\n",
       "    .dataframe thead th {\n",
       "        text-align: right;\n",
       "    }\n",
       "</style>\n",
       "<table border=\"1\" class=\"dataframe\">\n",
       "  <thead>\n",
       "    <tr style=\"text-align: right;\">\n",
       "      <th></th>\n",
       "      <th>Alley</th>\n",
       "      <th>Block</th>\n",
       "      <th>Intersection</th>\n",
       "      <th>Angles</th>\n",
       "      <th>Cycles</th>\n",
       "      <th>Head On</th>\n",
       "      <th>Left Turn</th>\n",
       "      <th>Other</th>\n",
       "      <th>Parked Car</th>\n",
       "      <th>Pedestrian</th>\n",
       "      <th>...</th>\n",
       "      <th>Snow/Slush</th>\n",
       "      <th>Standing Water</th>\n",
       "      <th>Wet</th>\n",
       "      <th>Dark - No Street Lights</th>\n",
       "      <th>Dark - Street Lights On</th>\n",
       "      <th>Dawn</th>\n",
       "      <th>Daylight</th>\n",
       "      <th>Dusk</th>\n",
       "      <th>Other</th>\n",
       "      <th>UNDERINFL</th>\n",
       "    </tr>\n",
       "  </thead>\n",
       "  <tbody>\n",
       "    <tr>\n",
       "      <th>0</th>\n",
       "      <td>0</td>\n",
       "      <td>1</td>\n",
       "      <td>0</td>\n",
       "      <td>1</td>\n",
       "      <td>0</td>\n",
       "      <td>0</td>\n",
       "      <td>0</td>\n",
       "      <td>0</td>\n",
       "      <td>0</td>\n",
       "      <td>0</td>\n",
       "      <td>...</td>\n",
       "      <td>0</td>\n",
       "      <td>0</td>\n",
       "      <td>0</td>\n",
       "      <td>0</td>\n",
       "      <td>1</td>\n",
       "      <td>0</td>\n",
       "      <td>0</td>\n",
       "      <td>0</td>\n",
       "      <td>0</td>\n",
       "      <td>0.0</td>\n",
       "    </tr>\n",
       "    <tr>\n",
       "      <th>1</th>\n",
       "      <td>0</td>\n",
       "      <td>1</td>\n",
       "      <td>0</td>\n",
       "      <td>0</td>\n",
       "      <td>0</td>\n",
       "      <td>0</td>\n",
       "      <td>0</td>\n",
       "      <td>0</td>\n",
       "      <td>1</td>\n",
       "      <td>0</td>\n",
       "      <td>...</td>\n",
       "      <td>0</td>\n",
       "      <td>0</td>\n",
       "      <td>0</td>\n",
       "      <td>0</td>\n",
       "      <td>0</td>\n",
       "      <td>0</td>\n",
       "      <td>1</td>\n",
       "      <td>0</td>\n",
       "      <td>0</td>\n",
       "      <td>0.0</td>\n",
       "    </tr>\n",
       "    <tr>\n",
       "      <th>2</th>\n",
       "      <td>0</td>\n",
       "      <td>0</td>\n",
       "      <td>1</td>\n",
       "      <td>0</td>\n",
       "      <td>0</td>\n",
       "      <td>0</td>\n",
       "      <td>0</td>\n",
       "      <td>0</td>\n",
       "      <td>1</td>\n",
       "      <td>0</td>\n",
       "      <td>...</td>\n",
       "      <td>0</td>\n",
       "      <td>0</td>\n",
       "      <td>0</td>\n",
       "      <td>0</td>\n",
       "      <td>0</td>\n",
       "      <td>0</td>\n",
       "      <td>1</td>\n",
       "      <td>0</td>\n",
       "      <td>0</td>\n",
       "      <td>0.0</td>\n",
       "    </tr>\n",
       "    <tr>\n",
       "      <th>3</th>\n",
       "      <td>0</td>\n",
       "      <td>0</td>\n",
       "      <td>1</td>\n",
       "      <td>1</td>\n",
       "      <td>0</td>\n",
       "      <td>0</td>\n",
       "      <td>0</td>\n",
       "      <td>0</td>\n",
       "      <td>0</td>\n",
       "      <td>0</td>\n",
       "      <td>...</td>\n",
       "      <td>0</td>\n",
       "      <td>0</td>\n",
       "      <td>0</td>\n",
       "      <td>0</td>\n",
       "      <td>0</td>\n",
       "      <td>1</td>\n",
       "      <td>0</td>\n",
       "      <td>0</td>\n",
       "      <td>0</td>\n",
       "      <td>0.0</td>\n",
       "    </tr>\n",
       "    <tr>\n",
       "      <th>4</th>\n",
       "      <td>0</td>\n",
       "      <td>1</td>\n",
       "      <td>0</td>\n",
       "      <td>0</td>\n",
       "      <td>0</td>\n",
       "      <td>0</td>\n",
       "      <td>0</td>\n",
       "      <td>0</td>\n",
       "      <td>1</td>\n",
       "      <td>0</td>\n",
       "      <td>...</td>\n",
       "      <td>0</td>\n",
       "      <td>0</td>\n",
       "      <td>0</td>\n",
       "      <td>0</td>\n",
       "      <td>1</td>\n",
       "      <td>0</td>\n",
       "      <td>0</td>\n",
       "      <td>0</td>\n",
       "      <td>0</td>\n",
       "      <td>0.0</td>\n",
       "    </tr>\n",
       "  </tbody>\n",
       "</table>\n",
       "<p>5 rows × 44 columns</p>\n",
       "</div>"
      ],
      "text/plain": [
       "   Alley  Block  Intersection  Angles  Cycles  Head On  Left Turn  Other  \\\n",
       "0      0      1             0       1       0        0          0      0   \n",
       "1      0      1             0       0       0        0          0      0   \n",
       "2      0      0             1       0       0        0          0      0   \n",
       "3      0      0             1       1       0        0          0      0   \n",
       "4      0      1             0       0       0        0          0      0   \n",
       "\n",
       "   Parked Car  Pedestrian  ...  Snow/Slush  Standing Water  Wet  \\\n",
       "0           0           0  ...           0               0    0   \n",
       "1           1           0  ...           0               0    0   \n",
       "2           1           0  ...           0               0    0   \n",
       "3           0           0  ...           0               0    0   \n",
       "4           1           0  ...           0               0    0   \n",
       "\n",
       "   Dark - No Street Lights  Dark - Street Lights On  Dawn  Daylight  Dusk  \\\n",
       "0                        0                        1     0         0     0   \n",
       "1                        0                        0     0         1     0   \n",
       "2                        0                        0     0         1     0   \n",
       "3                        0                        0     1         0     0   \n",
       "4                        0                        1     0         0     0   \n",
       "\n",
       "   Other  UNDERINFL  \n",
       "0      0        0.0  \n",
       "1      0        0.0  \n",
       "2      0        0.0  \n",
       "3      0        0.0  \n",
       "4      0        0.0  \n",
       "\n",
       "[5 rows x 44 columns]"
      ]
     },
     "execution_count": 41,
     "metadata": {},
     "output_type": "execute_result"
    }
   ],
   "source": [
    "final_feat.head()"
   ]
  },
  {
   "cell_type": "markdown",
   "metadata": {},
   "source": [
    "## <br> Preparing and Training the models\n",
    "\n",
    "#### We will be using KNN, Decision Tree Classifier, SVM, and Logisitic Regression to train our model and then analyze which algorithm is giving us a better result."
   ]
  },
  {
   "cell_type": "code",
   "execution_count": 42,
   "metadata": {},
   "outputs": [],
   "source": [
    "#Importing Libraries\n",
    "\n",
    "#import train_test_split\n",
    "from sklearn.model_selection import train_test_split\n",
    "\n",
    "from sklearn import preprocessing\n",
    "from sklearn.neighbors import KNeighborsClassifier\n",
    "from sklearn.tree import DecisionTreeClassifier\n",
    "from sklearn.svm import SVC\n",
    "from sklearn.linear_model import LogisticRegression\n",
    "\n",
    "\n",
    "from sklearn.metrics import jaccard_score\n",
    "from sklearn.metrics import f1_score\n",
    "from sklearn.metrics import log_loss\n",
    "\n",
    "\n",
    "\n"
   ]
  },
  {
   "cell_type": "markdown",
   "metadata": {},
   "source": [
    "##### Splitting the dataset into trainand test set. We will be splitting our dataset in 70-30 ratio. 70% data for Training Set, and 30% for Test Set."
   ]
  },
  {
   "cell_type": "code",
   "execution_count": 43,
   "metadata": {},
   "outputs": [
    {
     "name": "stdout",
     "output_type": "stream",
     "text": [
      "Train set: (94388, 44) (94388,)\n",
      "Test set: (40452, 44) (40452,)\n"
     ]
    }
   ],
   "source": [
    "X_train, X_test, y_train, y_test = train_test_split( final_feat, y, test_size=0.3, random_state=42)\n",
    "print ('Train set:', X_train.shape,  y_train.shape)\n",
    "print ('Test set:', X_test.shape,  y_test.shape)"
   ]
  },
  {
   "cell_type": "markdown",
   "metadata": {},
   "source": [
    "##### Normalizing the datatset"
   ]
  },
  {
   "cell_type": "code",
   "execution_count": 44,
   "metadata": {},
   "outputs": [],
   "source": [
    "X_train = preprocessing.StandardScaler().fit(X_train).transform(X_train)\n",
    "X_test = preprocessing.StandardScaler().fit(X_test).transform(X_test)"
   ]
  },
  {
   "cell_type": "markdown",
   "metadata": {},
   "source": [
    "### KNN Classifier"
   ]
  },
  {
   "cell_type": "code",
   "execution_count": 45,
   "metadata": {},
   "outputs": [
    {
     "name": "stdout",
     "output_type": "stream",
     "text": [
      "k =  1  :  0.5936882603722575\n",
      "k =  2  :  0.4532598352856252\n",
      "k =  3  :  0.6622715013485166\n",
      "k =  4  :  0.6139680878890923\n",
      "k =  5  :  0.6693721429237802\n",
      "k =  6  :  0.6361694105818775\n",
      "k =  7  :  0.6937747706321574\n",
      "k =  8  :  0.651018127035039\n",
      "k =  9  :  0.6771494716574598\n",
      "k =  10  :  0.6513968674817107\n"
     ]
    },
    {
     "data": {
      "text/plain": [
       "Text(0, 0.5, 'Accuracy')"
      ]
     },
     "execution_count": 45,
     "metadata": {},
     "output_type": "execute_result"
    },
    {
     "data": {
      "image/png": "[encoded data removed]",
      "text/plain": [
       "<Figure size 432x288 with 1 Axes>"
      ]
     },
     "metadata": {
      "needs_background": "light"
     },
     "output_type": "display_data"
    }
   ],
   "source": [
    "#Selecting the best value of k\n",
    "\n",
    "k_values = range(1,11)\n",
    "accuracy_score =[]\n",
    "\n",
    "for k in k_values:\n",
    "    KNN = KNeighborsClassifier(n_neighbors=k).fit(X_train,y_train)\n",
    "    y_predict_KNN = KNN.predict(X_test)\n",
    "    print(\"k = \",k,\" : \",f1_score(y_test, y_predict_KNN))\n",
    "    accuracy_score.append(f1_score(y_test,y_predict_KNN))\n",
    "    \n",
    "#plotting the accuracy score :\n",
    "best_k = accuracy_score.index(max(accuracy_score))+1\n",
    "plt.plot(k_values,accuracy_score)\n",
    "plt.xlabel(\"values for k\")\n",
    "plt.ylabel(\"Accuracy\")"
   ]
  },
  {
   "cell_type": "code",
   "execution_count": 46,
   "metadata": {},
   "outputs": [
    {
     "data": {
      "text/plain": [
       "KNeighborsClassifier(n_neighbors=7)"
      ]
     },
     "execution_count": 46,
     "metadata": {},
     "output_type": "execute_result"
    }
   ],
   "source": [
    "# From the above plot, now we have the best value of K, we will train our model on that value of k\n",
    "KNN = KNeighborsClassifier(n_neighbors = best_k).fit(X_train, y_train)\n",
    "KNN"
   ]
  },
  {
   "cell_type": "markdown",
   "metadata": {},
   "source": [
    "### Decision Tree Classifier"
   ]
  },
  {
   "cell_type": "code",
   "execution_count": 47,
   "metadata": {},
   "outputs": [
    {
     "name": "stdout",
     "output_type": "stream",
     "text": [
      "Depth =  2 : 0.7214110962039301\n",
      "Depth =  3 : 0.7214110962039301\n",
      "Depth =  4 : 0.7213826303121176\n",
      "Depth =  5 : 0.7064425524444834\n"
     ]
    }
   ],
   "source": [
    "# Checking the best depth for our Decision Tree\n",
    "\n",
    "depth_values = range(2,6)\n",
    "\n",
    "for d in depth_values:\n",
    "    DT = DecisionTreeClassifier(max_depth=d).fit(X_train,y_train)\n",
    "    y_predict_DT = DT.predict(X_test)\n",
    "    print(\"Depth = \",d ,\":\", f1_score(y_test,y_predict_DT))"
   ]
  },
  {
   "cell_type": "code",
   "execution_count": 48,
   "metadata": {},
   "outputs": [
    {
     "data": {
      "text/plain": [
       "DecisionTreeClassifier(max_depth=4)"
      ]
     },
     "execution_count": 48,
     "metadata": {},
     "output_type": "execute_result"
    }
   ],
   "source": [
    "# Training our model on best value of max_depth\n",
    "DT = DecisionTreeClassifier(max_depth=4).fit(X_train, y_train)\n",
    "DT"
   ]
  },
  {
   "cell_type": "markdown",
   "metadata": {},
   "source": [
    "### SVM Classifier"
   ]
  },
  {
   "cell_type": "code",
   "execution_count": 49,
   "metadata": {},
   "outputs": [
    {
     "data": {
      "text/plain": [
       "SVC()"
      ]
     },
     "execution_count": 49,
     "metadata": {},
     "output_type": "execute_result"
    }
   ],
   "source": [
    "SVM = SVC(kernel='rbf')\n",
    "SVM.fit(X_train, y_train)\n",
    "SVM"
   ]
  },
  {
   "cell_type": "markdown",
   "metadata": {},
   "source": [
    "### Logistic Regression"
   ]
  },
  {
   "cell_type": "code",
   "execution_count": 50,
   "metadata": {},
   "outputs": [
    {
     "data": {
      "text/plain": [
       "LogisticRegression(C=0.01, solver='liblinear')"
      ]
     },
     "execution_count": 50,
     "metadata": {},
     "output_type": "execute_result"
    }
   ],
   "source": [
    "# prepare LR setting\n",
    "LR = LogisticRegression(C=0.01, solver='liblinear').fit(X_train, y_train)\n",
    "LR"
   ]
  },
  {
   "cell_type": "markdown",
   "metadata": {},
   "source": [
    "##### We have trained our model on 4 different models. Now it's time for prediction"
   ]
  },
  {
   "cell_type": "markdown",
   "metadata": {},
   "source": [
    "### Pediciton Phase\n",
    "\n",
    "##### We will use three different accuracy metrics - Jaccard Similarity Score, F1 Score, Log Loss,  to check the accuracy of our model."
   ]
  },
  {
   "cell_type": "code",
   "execution_count": 51,
   "metadata": {},
   "outputs": [],
   "source": [
    "y_pred_KNN = KNN.predict(X_test)\n",
    "y_pred_DT = DT.predict(X_test)\n",
    "y_pred_SVM = SVM.predict(X_test)\n",
    "y_pred_LR = LR.predict(X_test)"
   ]
  },
  {
   "cell_type": "code",
   "execution_count": 52,
   "metadata": {},
   "outputs": [
    {
     "data": {
      "text/plain": [
       "[0.53, 0.56, 0.55, 0.55]"
      ]
     },
     "execution_count": 52,
     "metadata": {},
     "output_type": "execute_result"
    }
   ],
   "source": [
    "#Calculating Jaccard Similarity Score\n",
    "jaccard_result = []\n",
    "\n",
    "jaccard_result.append(round(jaccard_score(y_test,y_pred_KNN),2))\n",
    "jaccard_result.append(round(jaccard_score(y_test,y_pred_DT),2))\n",
    "jaccard_result.append(round(jaccard_score(y_test,y_pred_SVM),2))\n",
    "jaccard_result.append(round(jaccard_score(y_test,y_pred_LR),2))\n",
    "\n",
    "jaccard_result"
   ]
  },
  {
   "cell_type": "code",
   "execution_count": 53,
   "metadata": {},
   "outputs": [
    {
     "data": {
      "text/plain": [
       "[0.65, 0.63, 0.67, 0.67]"
      ]
     },
     "execution_count": 53,
     "metadata": {},
     "output_type": "execute_result"
    }
   ],
   "source": [
    "\n",
    "\n",
    "#Calculating F1 Score\n",
    "F1_score = []\n",
    "F1_score.append(round(f1_score(y_test,y_pred_KNN,average=\"weighted\"),2))\n",
    "F1_score.append(round(f1_score(y_test,y_pred_DT,average=\"weighted\"),2))\n",
    "F1_score.append(round(f1_score(y_test,y_pred_SVM,average=\"weighted\"),2))\n",
    "F1_score.append(round(f1_score(y_test,y_pred_LR,average=\"weighted\"),2))\n",
    "\n",
    "F1_score\n",
    "\n"
   ]
  },
  {
   "cell_type": "code",
   "execution_count": 54,
   "metadata": {},
   "outputs": [
    {
     "data": {
      "text/plain": [
       "['NaN', 'NaN', 'NaN', 0.58]"
      ]
     },
     "execution_count": 54,
     "metadata": {},
     "output_type": "execute_result"
    }
   ],
   "source": [
    "\n",
    "\n",
    "#Calculating Log Loss\n",
    "\n",
    "#converting paidoff and collection into 0 and 1 for comparison\n",
    "\n",
    "\n",
    "y_pred_LR = LR.predict_proba(X_test)\n",
    "logloss_score = ['NaN','NaN','NaN',round(log_loss(y_test, y_pred_LR),2)]\n",
    "logloss_score\n",
    "\n"
   ]
  },
  {
   "cell_type": "markdown",
   "metadata": {},
   "source": [
    "### Displaying the accuracy metrics result"
   ]
  },
  {
   "cell_type": "code",
   "execution_count": 55,
   "metadata": {},
   "outputs": [
    {
     "data": {
      "text/html": [
       "<div>\n",
       "<style scoped>\n",
       "    .dataframe tbody tr th:only-of-type {\n",
       "        vertical-align: middle;\n",
       "    }\n",
       "\n",
       "    .dataframe tbody tr th {\n",
       "        vertical-align: top;\n",
       "    }\n",
       "\n",
       "    .dataframe thead th {\n",
       "        text-align: right;\n",
       "    }\n",
       "</style>\n",
       "<table border=\"1\" class=\"dataframe\">\n",
       "  <thead>\n",
       "    <tr style=\"text-align: right;\">\n",
       "      <th></th>\n",
       "      <th>Algorithm</th>\n",
       "      <th>Jaccard</th>\n",
       "      <th>F1-score</th>\n",
       "      <th>LogLoss</th>\n",
       "    </tr>\n",
       "  </thead>\n",
       "  <tbody>\n",
       "    <tr>\n",
       "      <th>0</th>\n",
       "      <td>KNN</td>\n",
       "      <td>0.53</td>\n",
       "      <td>0.65</td>\n",
       "      <td>NaN</td>\n",
       "    </tr>\n",
       "    <tr>\n",
       "      <th>1</th>\n",
       "      <td>Decision Tree</td>\n",
       "      <td>0.56</td>\n",
       "      <td>0.63</td>\n",
       "      <td>NaN</td>\n",
       "    </tr>\n",
       "    <tr>\n",
       "      <th>2</th>\n",
       "      <td>SVM</td>\n",
       "      <td>0.55</td>\n",
       "      <td>0.67</td>\n",
       "      <td>NaN</td>\n",
       "    </tr>\n",
       "    <tr>\n",
       "      <th>3</th>\n",
       "      <td>LogisticRegression</td>\n",
       "      <td>0.55</td>\n",
       "      <td>0.67</td>\n",
       "      <td>0.58</td>\n",
       "    </tr>\n",
       "  </tbody>\n",
       "</table>\n",
       "</div>"
      ],
      "text/plain": [
       "            Algorithm  Jaccard  F1-score LogLoss\n",
       "0                 KNN     0.53      0.65     NaN\n",
       "1       Decision Tree     0.56      0.63     NaN\n",
       "2                 SVM     0.55      0.67     NaN\n",
       "3  LogisticRegression     0.55      0.67    0.58"
      ]
     },
     "execution_count": 55,
     "metadata": {},
     "output_type": "execute_result"
    }
   ],
   "source": [
    "df = {'Algorithm': ['KNN', 'Decision Tree', 'SVM', 'LogisticRegression'], \\\n",
    "     'Jaccard': jaccard_result, 'F1-score': F1_score, 'LogLoss': logloss_score}\n",
    "report = pd.DataFrame(data=df, columns=['Algorithm', 'Jaccard', 'F1-score', 'LogLoss'], index=None)\n",
    "report"
   ]
  },
  {
   "cell_type": "markdown",
   "metadata": {},
   "source": [
    "##### So, finally we have come to the end of our project. From the above table, it is evident that SVM is giving us the best result, but the accuracy of all algorithms are very close."
   ]
  },
  {
   "cell_type": "code",
   "execution_count": null,
   "metadata": {},
   "outputs": [],
   "source": []
  }
 ],
 "metadata": {
  "kernelspec": {
   "display_name": "Python 3",
   "language": "python",
   "name": "python3"
  },
  "language_info": {
   "codemirror_mode": {
    "name": "ipython",
    "version": 3
   },
   "file_extension": ".py",
   "mimetype": "text/x-python",
   "name": "python",
   "nbconvert_exporter": "python",
   "pygments_lexer": "ipython3",
   "version": "3.8.1"
  }
 },
 "nbformat": 4,
 "nbformat_minor": 4
}
